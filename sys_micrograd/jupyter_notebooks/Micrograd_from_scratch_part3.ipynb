{
 "cells": [
  {
   "cell_type": "code",
   "execution_count": 1,
   "id": "c3aaf047",
   "metadata": {},
   "outputs": [],
   "source": [
    "import math\n",
    "import numpy as np\n",
    "import matplotlib.pyplot as plt\n",
    "%matplotlib inline"
   ]
  },
  {
   "cell_type": "markdown",
   "id": "b8f8039b",
   "metadata": {},
   "source": [
    "## sys_micrograd"
   ]
  },
  {
   "cell_type": "code",
   "execution_count": 2,
   "id": "9c1f6f74",
   "metadata": {},
   "outputs": [],
   "source": [
    "class Value:\n",
    "    \n",
    "    def __init__(self, data, _children=(), _op=(), label=''):\n",
    "        self.data  = data\n",
    "        self._prev = set(_children)\n",
    "        self._op = _op\n",
    "        self.label = label\n",
    "        self.grad = 0.0 \n",
    "        self._backward = lambda: None\n",
    "\n",
    "    def __repr__(self):\n",
    "        return f\"Value(data={self.data})\"\n",
    "    \n",
    "    # Operations\n",
    "    def __add__(self, other):\n",
    "        other = other if isinstance(other, Value) else Value(other)\n",
    "        out = Value( self.data + other.data , (self, other), '+') \n",
    "        \n",
    "        def _backward(): # by addition our job is to propogate __add__'s out's grad into self and other \n",
    "                         # i.e pass it backward (the out.grad backwards to the 2 parents) other and self\n",
    "            self.grad += 1.0 * out.grad\n",
    "            other.grad += 1.0 * out.grad\n",
    "        out._backward = _backward\n",
    "        \n",
    "        return out\n",
    "    \n",
    "    def __radd__(self, other):\n",
    "        return self + other\n",
    "    \n",
    "    def __neg__(self): \n",
    "        return self * -1\n",
    "    \n",
    "    def __sub__(self, other):\n",
    "        return self + (-other)\n",
    "    \n",
    "    def __truediv__(self, other): # self/other\n",
    "        return self * other**-1\n",
    "        \n",
    "    def __rmul__(self, other): # for the case of -- other * self\n",
    "        return self * other\n",
    "    \n",
    "    def __mul__(self, other):\n",
    "        other = other if isinstance(other, Value) else Value(other)\n",
    "        out = Value( self.data * other.data, (self, other), '*' ) \n",
    "          \n",
    "        def _backward(): # by multiplication our job is to multiply the weight of the other variable (if we are talking about self we need other, if its other we need self)\n",
    "                            # and we multiply this (ther other variables data) by the out.grad\n",
    "                            # this is \n",
    "            self.grad  += other.data * out.grad\n",
    "            other.grad += self.data * out.grad\n",
    "        out._backward = _backward    \n",
    "    \n",
    "        return out\n",
    "    \n",
    "    \n",
    "    def __pow__(self, other):\n",
    "        assert isinstance(other, (int, float)), \"We only support int or float data types for now\"\n",
    "        out = Value( self.data ** other, (self,), f'**{other}' ) \n",
    "        \n",
    "        def _backward(): \n",
    "            self.grad += (other * ( self.data ** (other-1)) )* out.grad # other = n, and self.data = n\n",
    "        out._backward = _backward\n",
    "        \n",
    "        return out\n",
    "    \n",
    "    \n",
    "    def exp(self):\n",
    "        x = self.data\n",
    "        out = Value(math.exp(x), (self, ), 'exp')\n",
    "        \n",
    "        def _backward():\n",
    "            self.grad += math.exp(x) * out.grad\n",
    "        out._backward = _backward\n",
    "        \n",
    "        return out\n",
    "           \n",
    "    \n",
    "    def tanh(self):\n",
    "        x = self.data\n",
    "        t = (math.exp(2*x) - 1)/(math.exp(2*x) + 1)\n",
    "        out = Value(t, (self, ), 'tanh')\n",
    "        \n",
    "        \n",
    "        def _backward(): # this is simply the derivative of the tanh function, multiplied by the out.grad \n",
    "                            # since this is the chain rule \n",
    "            self.grad = (1 - t**2) * out.grad\n",
    "        out._backward = _backward\n",
    "        \n",
    "        return out\n",
    "    \n",
    "    \n",
    "    def backward(self):\n",
    "        topo = []\n",
    "        visited = set()\n",
    "        # only adds a node once that nodes the children are added to the list\n",
    "        def build_topo(v):\n",
    "            if v not in visited:\n",
    "                visited.add(v)\n",
    "                for child in v._prev:\n",
    "                    build_topo(child)\n",
    "                topo.append(v)\n",
    "\n",
    "        build_topo(self)\n",
    "        topo\n",
    "        self.grad = 1.0\n",
    "        # now we call the \n",
    "        for node in reversed(topo):\n",
    "            node._backward()\n",
    "    \n"
   ]
  },
  {
   "cell_type": "code",
   "execution_count": 3,
   "id": "2b32ed2d",
   "metadata": {},
   "outputs": [],
   "source": [
    "# helper fucntions to visualize everything happening behind the scenes\n",
    "\n",
    "from graphviz import Digraph\n",
    "\n",
    "# Step 1 - build the connections/tree of operations and operands\n",
    "def trace(root):\n",
    "    # This builds a set of all nodes and edges in a graph\n",
    "    nodes, edges = set(), set()\n",
    "    \n",
    "    # function to build everything\n",
    "    def build(v):\n",
    "        if v not in nodes:\n",
    "            nodes.add(v)\n",
    "        for child in v._prev:\n",
    "            edges.add((child, v))\n",
    "            build(child)\n",
    "    \n",
    "    # now use this to build the trace fro, the root\n",
    "    build(root)\n",
    "    return nodes, edges\n",
    "\n",
    "# Step 2 - Draw the connections/tree of operations and operands\n",
    "def draw_dot(root):\n",
    "    dot = Digraph(format='svg', graph_attr={'rankdir': 'LR'}) # LR - for left to right\n",
    "    \n",
    "    nodes, edges = trace(root)\n",
    "    for _n in nodes:\n",
    "        uid = str(id(_n))\n",
    "        \n",
    "        # for any value in the graph, create a rectangular ('record') node for it\n",
    "        dot.node(name = uid, label=\"{ %s |  data %.4f | grad %.4f }\" % (_n.label, _n.data, _n.grad ), shape='record')\n",
    "        \n",
    "        if _n._op:\n",
    "            # a - if this value is a result of some operation, create an op node for it\n",
    "            dot.node(name = uid + _n._op , label = _n._op)\n",
    "            # b - and connec this node to it\n",
    "            dot.edge(uid + _n._op, uid)\n",
    "            \n",
    "    \n",
    "    for n1, n2 in edges:\n",
    "        # connect n1 to the op node of n2\n",
    "        dot.edge( str(id(n1)), str(id(n2)) + n2._op)\n",
    "        \n",
    "    return dot"
   ]
  },
  {
   "cell_type": "code",
   "execution_count": null,
   "id": "25f4b150",
   "metadata": {},
   "outputs": [],
   "source": []
  },
  {
   "cell_type": "code",
   "execution_count": 78,
   "id": "91ed734d",
   "metadata": {},
   "outputs": [],
   "source": [
    "# PART 3 - Backpropagation on a neuron"
   ]
  },
  {
   "cell_type": "code",
   "execution_count": 5,
   "id": "3f73e1c9",
   "metadata": {},
   "outputs": [],
   "source": [
    "# inputs of the network : x1, x2\n",
    "x1 = Value(2.0, label='x1')\n",
    "x2 = Value(0.0, label='x2')\n",
    "\n",
    "# weights of the network : w1, w2 \n",
    "w1 = Value(-3.0, label='w1')\n",
    "w2 = Value(1.0, label='w2')\n",
    "\n",
    "# bias of the neuron\n",
    "b = Value(6.88137335870195432, label='b')\n",
    "\n",
    "x1w1 = x1*w1 ; x1w1.label = \"x1*w1\";\n",
    "x2w2 = x2*w2 ;  x2w2.label = \"x2*w2\";\n",
    "x1w1x2w2 = x1w1 + x2w2; x1w1x2w2.label = 'x1*w1 + x2*w2'\n",
    "\n",
    "n = x1w1x2w2 + b\n",
    "n.label = 'n' # neuron before activation function\n",
    "\n",
    "o = n.tanh()\n",
    "o.label = 'o'\n",
    "o.backward()"
   ]
  },
  {
   "cell_type": "code",
   "execution_count": 4,
   "id": "fb9d09ef",
   "metadata": {
    "scrolled": true
   },
   "outputs": [
    {
     "name": "stdout",
     "output_type": "stream",
     "text": [
      "tensor([0.7071], dtype=torch.float64, grad_fn=<TanhBackward0>)\n",
      "0.7071066904050358\n",
      "---\n",
      "x2 0.5000001283844369\n",
      "w2 0.0\n",
      "x1 -1.5000003851533106\n",
      "w1 1.0000002567688737\n"
     ]
    }
   ],
   "source": [
    "import torch\n",
    "\n",
    "# Tensors are n-dimensional arrays of scalars\n",
    "\n",
    "x1 = torch.Tensor([2.0]).double() ;                   x1.requires_grad = True\n",
    "x2 = torch.Tensor([0.0]).double() ;                   x2.requires_grad = True\n",
    "\n",
    "w1 = torch.Tensor([-3.0]).double() ;                  w1.requires_grad = True\n",
    "w2 = torch.Tensor([1.0]).double() ;                   w2.requires_grad = True\n",
    "\n",
    "b = torch.Tensor([6.88137335870195432]).double() ;    b.requires_grad = True\n",
    "\n",
    "n = x1*w1 + x2*w2 + b\n",
    "\n",
    "o = torch.tanh(n)\n",
    "\n",
    "print(o)\n",
    "print(o.data.item())\n",
    "\n",
    "o.backward()\n",
    "\n",
    "print('---')\n",
    "print('x2', x2.grad.item())\n",
    "print('w2', w2.grad.item())\n",
    "print('x1', x1.grad.item())\n",
    "print('w1', w1.grad.item())"
   ]
  },
  {
   "cell_type": "code",
   "execution_count": 6,
   "id": "122d38ab",
   "metadata": {},
   "outputs": [],
   "source": [
    "# PART 4 - Building a Nerual net library - Multi Layer Perceptron"
   ]
  },
  {
   "cell_type": "code",
   "execution_count": 7,
   "id": "4dc69127",
   "metadata": {},
   "outputs": [],
   "source": [
    "import random"
   ]
  },
  {
   "cell_type": "code",
   "execution_count": 24,
   "id": "d5cbd931",
   "metadata": {},
   "outputs": [
    {
     "name": "stdout",
     "output_type": "stream",
     "text": [
      "Value(data=-0.6685172492330929)\n",
      "\n",
      "starting layers\n",
      "[Value(data=-0.9912934225210936), Value(data=0.993694666619432), Value(data=-0.9588773377941429)]\n"
     ]
    }
   ],
   "source": [
    "\n",
    "# Define a single neuron : Each neuron has the (weights + bias) corresponding to the number of inputs (layer before)\n",
    "class Neuron:\n",
    "    \n",
    "    def __init__(self, num_inputs):\n",
    "        self.w = [Value(random.uniform(-1, 1)) for _ in range(num_inputs)]\n",
    "        self.b = Value(random.uniform(-1, 1))\n",
    "        \n",
    "    def __call__(self, x ):\n",
    "        # w * x + b\n",
    "        #print(list(zip(self.w, x)))\n",
    "        act =  sum( (wi*xi for wi, xi in zip(self.w, x)), self.b )\n",
    "        out = act.tanh()\n",
    "        return out\n",
    "    \n",
    "    def parameters(self):\n",
    "        return self.w + [self.b]\n",
    "    \n",
    "    \n",
    "    \n",
    "\n",
    "# Define a layer : each layer is a list of neurons : where\n",
    "#            - each neuron takes in the Num inputs, and \n",
    "#            - the layer itself consists of #nurons = number of outputs\n",
    "class Layer:\n",
    "    \n",
    "    def __init__(self, num_input, num_output):\n",
    "        self.neurons = [Neuron(num_input) for _ in range(num_output)] # this creates a num_input* numoutput matric where each num_input == neruron\n",
    "    \n",
    "    def __call__(self, x):\n",
    "        outputs = [n(x) for n in self.neurons]\n",
    "        return outputs[0] if len(outputs) == 1 else outputs # allows us to get a single value out if only one neuron\n",
    "    \n",
    "    def parameters(self):\n",
    "        return [ neuron_param for neuron in self.neurons for neuron_param in neuron.parameters() ]\n",
    "    \n",
    "x = [2.0, 3.0]\n",
    "n = Neuron(2)\n",
    "print(n(x))\n",
    "\n",
    "print(\"\\nstarting layers\")\n",
    "m = Layer(2, 3)\n",
    "print( m(x) )\n"
   ]
  },
  {
   "cell_type": "code",
   "execution_count": 25,
   "id": "477c564e",
   "metadata": {
    "scrolled": true
   },
   "outputs": [
    {
     "data": {
      "text/plain": [
       "Value(data=0.3709180895659462)"
      ]
     },
     "execution_count": 25,
     "metadata": {},
     "output_type": "execute_result"
    }
   ],
   "source": [
    "class MLP: # Multi layer perceptron\n",
    "    \n",
    "    def __init__(self, num_inputs, num_outputs):\n",
    "        sz = [num_inputs] + num_outputs # \n",
    "        self.layers = [Layer(sz[i], sz[i+1]) for i in range(len(num_outputs))]\n",
    "\n",
    "    def __call__(self, x):\n",
    "        for layer in self.layers:\n",
    "            x = layer(x)\n",
    "        return x\n",
    "    \n",
    "    def parameters(self):\n",
    "        return [ layer_params for layer in self.layers for layer_params in layer.parameters() ]\n",
    "\n",
    "#draw_dot(n(x))"
   ]
  },
  {
   "cell_type": "code",
   "execution_count": 229,
   "id": "4d77b61f",
   "metadata": {},
   "outputs": [
    {
     "data": {
      "text/plain": [
       "Value(data=-0.9234811842778495)"
      ]
     },
     "execution_count": 229,
     "metadata": {},
     "output_type": "execute_result"
    }
   ],
   "source": [
    "x = [2.0, 3.0, -1.0] # 3d input\n",
    "n = MLP(3, [4,4,1]) # 3 inputs to 2 layers of 4, with one output (l1 = 3,4, l2= 4,4, l3 = 4, 1 )\n",
    "n(x)"
   ]
  },
  {
   "cell_type": "code",
   "execution_count": 234,
   "id": "e87b16b8",
   "metadata": {},
   "outputs": [
    {
     "data": {
      "text/plain": [
       "[Value(data=0.9333489696995945),\n",
       " Value(data=-0.952580516638162),\n",
       " Value(data=-0.9304558153122353),\n",
       " Value(data=0.9182652432820448)]"
      ]
     },
     "execution_count": 234,
     "metadata": {},
     "output_type": "execute_result"
    }
   ],
   "source": [
    "xs = [\n",
    "    [2.0, 3.0, -1.0],\n",
    "    [3.0, -1.0, 0.5],\n",
    "    [0.5, 1.0, 1.0],\n",
    "    [1.0, 1.0, -1.0]\n",
    "]\n",
    "ys = [1.0, -1.0, -1.0, 1.0] # targets\n",
    "\n",
    "ypred = [ n(x) for x in xs ]\n",
    "ypred"
   ]
  },
  {
   "cell_type": "code",
   "execution_count": 279,
   "id": "7117edbb",
   "metadata": {
    "scrolled": false
   },
   "outputs": [
    {
     "name": "stdout",
     "output_type": "stream",
     "text": [
      "0 Value(data=0.0013085057056744435)\n",
      "1 Value(data=0.0013057155511955246)\n",
      "2 Value(data=0.001302937195502468)\n",
      "3 Value(data=0.0013001705641180925)\n",
      "4 Value(data=0.0012974155831897548)\n",
      "5 Value(data=0.0012946721794827348)\n",
      "6 Value(data=0.0012919402803738419)\n",
      "7 Value(data=0.00128921981384507)\n",
      "8 Value(data=0.0012865107084772673)\n",
      "9 Value(data=0.0012838128934439439)\n",
      "10 Value(data=0.0012811262985051837)\n",
      "11 Value(data=0.0012784508540015123)\n",
      "12 Value(data=0.001275786490848019)\n",
      "13 Value(data=0.0012731331405283531)\n",
      "14 Value(data=0.0012704907350889715)\n",
      "15 Value(data=0.0012678592071333475)\n",
      "16 Value(data=0.0012652384898162437)\n",
      "17 Value(data=0.0012626285168381801)\n",
      "18 Value(data=0.0012600292224397946)\n",
      "19 Value(data=0.0012574405413964056)\n"
     ]
    }
   ],
   "source": [
    "# 5 - to imporve the network we want to calculte the MSE for each prediction to use to update the network properly\n",
    "\n",
    "#  A - create an automated (a) forward pass a (b) backward pass , and thenn (c) the update (gradiant decent)\n",
    "for epochs in range(20):\n",
    "    \n",
    "    # (a) : forward pass\n",
    "    ypred = [ n(x) for x in xs ]\n",
    "    loss = sum( (y_pred - y_ground_truth)**2 for y_ground_truth, y_pred in zip(ys,ypred) ) # mean_squared_error\n",
    "    \n",
    "    # (b) backward pass \n",
    "    # WARNING *** must reset the grads to zero, so we only accumulate the grads for this loss.backward, not prev runs\n",
    "    #.      if we dont -- our steps are huge\n",
    "    for p in n.parameters():\n",
    "        p.grad = 0.0\n",
    "    loss.backward()\n",
    "    \n",
    "    # (c) the update\n",
    "    # 6 - nudge the values of the weights and biases, based on the gradiant decent\n",
    "    #        --> gradiant points in the direction of greater loss -> so we want to point the grad in the oppposite dir\n",
    "    for p in n.parameters():\n",
    "        p.data += (-0.05) * p.grad\n",
    "        \n",
    "        \n",
    "    print(epochs, loss)"
   ]
  },
  {
   "cell_type": "code",
   "execution_count": 278,
   "id": "8564319a",
   "metadata": {},
   "outputs": [
    {
     "data": {
      "text/plain": [
       "[Value(data=0.98233105112955),\n",
       " Value(data=-0.9857414684229721),\n",
       " Value(data=-0.981526439539894),\n",
       " Value(data=0.9786801073864201)]"
      ]
     },
     "execution_count": 278,
     "metadata": {},
     "output_type": "execute_result"
    }
   ],
   "source": [
    "# 7 - now we \n",
    "ypred"
   ]
  },
  {
   "cell_type": "code",
   "execution_count": null,
   "id": "317c4f39",
   "metadata": {},
   "outputs": [],
   "source": []
  },
  {
   "cell_type": "code",
   "execution_count": null,
   "id": "cf9f18ed",
   "metadata": {},
   "outputs": [],
   "source": []
  }
 ],
 "metadata": {
  "kernelspec": {
   "display_name": "Python 3 (ipykernel)",
   "language": "python",
   "name": "python3"
  },
  "language_info": {
   "codemirror_mode": {
    "name": "ipython",
    "version": 3
   },
   "file_extension": ".py",
   "mimetype": "text/x-python",
   "name": "python",
   "nbconvert_exporter": "python",
   "pygments_lexer": "ipython3",
   "version": "3.9.10"
  }
 },
 "nbformat": 4,
 "nbformat_minor": 5
}
